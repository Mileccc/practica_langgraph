{
 "cells": [
  {
   "cell_type": "code",
   "execution_count": 17,
   "metadata": {},
   "outputs": [],
   "source": [
    "import getpass\n",
    "import os\n",
    "from langchain_core.pydantic_v1 import BaseModel, Field, validator\n",
    "from langchain_groq import ChatGroq\n",
    "from dotenv import load_dotenv"
   ]
  },
  {
   "cell_type": "code",
   "execution_count": 18,
   "metadata": {},
   "outputs": [],
   "source": [
    "os.environ['GROQ_API_KEY'] = os.getenv('GROQ_API_KEY')\n",
    "os.environ['TAVILY_API_KEY'] = os.getenv('TAVILY_API_KEY')\n",
    "os.environ['LANGCHAIN_TRACING_V2'] = os.getenv('LANGCHAIN_TRACING_V2')\n",
    "os.environ['LANGCHAIN_ENDPOINT'] = os.getenv('LANGCHAIN_ENDPOINT')\n",
    "os.environ['LANGCHAIN_API_KEY'] = os.getenv('LANGCHAIN_API_KEY')"
   ]
  },
  {
   "cell_type": "code",
   "execution_count": 19,
   "metadata": {},
   "outputs": [],
   "source": [
    "from langchain_core.tools import tool"
   ]
  },
  {
   "cell_type": "code",
   "execution_count": 20,
   "metadata": {},
   "outputs": [],
   "source": [
    "@tool\n",
    "def multiply(first_int: int, second_int: int) -> int:\n",
    "    \"\"\"Multiplica dos números enteros.\"\"\"\n",
    "    return first_int * second_int\n",
    "\n",
    "\n",
    "@tool\n",
    "def add(first_int: int, second_int: int) -> int:\n",
    "    \"\"\"Suma dos números enteros.\"\"\"\n",
    "    return first_int + second_int\n",
    "\n",
    "@tool\n",
    "def exponentiate(base: int, exponent: int) -> int:\n",
    "    \"\"\"Exponenciar la base a la potencia del exponente.\"\"\"\n",
    "    return base**exponent"
   ]
  },
  {
   "cell_type": "code",
   "execution_count": 21,
   "metadata": {},
   "outputs": [],
   "source": [
    "tools = [add, exponentiate, multiply]"
   ]
  },
  {
   "cell_type": "code",
   "execution_count": 22,
   "metadata": {},
   "outputs": [],
   "source": [
    "from langchain.tools.render import render_text_description"
   ]
  },
  {
   "cell_type": "code",
   "execution_count": 23,
   "metadata": {},
   "outputs": [],
   "source": [
    "from langchain_core.prompts import ChatPromptTemplate"
   ]
  },
  {
   "cell_type": "code",
   "execution_count": 24,
   "metadata": {},
   "outputs": [],
   "source": [
    "llm = ChatGroq(temperature=0, model=\"llama3-70b-8192\")"
   ]
  },
  {
   "cell_type": "code",
   "execution_count": 25,
   "metadata": {},
   "outputs": [],
   "source": [
    "from operator import itemgetter"
   ]
  },
  {
   "cell_type": "code",
   "execution_count": 26,
   "metadata": {},
   "outputs": [],
   "source": [
    "def tool_chain(model_output):\n",
    "    tool_map = {tool.name: tool for tool in tools}\n",
    "    chosen_tool = tool_map[model_output[\"name\"]]\n",
    "    return itemgetter(\"arguments\") | chosen_tool"
   ]
  },
  {
   "cell_type": "code",
   "execution_count": 27,
   "metadata": {},
   "outputs": [],
   "source": [
    "rendered_tools = render_text_description(tools)"
   ]
  },
  {
   "cell_type": "code",
   "execution_count": 28,
   "metadata": {},
   "outputs": [],
   "source": [
    "system_prompt = f\"\"\"Usted es un asistente que tiene acceso al siguiente conjunto de herramientas. Estos son los nombres y descripciones de cada herramienta:\n",
    "\n",
    "{rendered_tools}\n",
    "\n",
    "Dada la entrada del usuario, devuelva únicamente el nombre y los argumentos de la herramienta a utilizar en formato JSON válido. La respuesta debe ser un JSON con las claves 'name' y 'arguments', donde 'arguments' es un diccionario con los argumentos de la herramienta. No incluya ninguna otra explicación en la respuesta.\n",
    "\"\"\""
   ]
  },
  {
   "cell_type": "code",
   "execution_count": 29,
   "metadata": {},
   "outputs": [],
   "source": [
    "prompt = ChatPromptTemplate.from_messages(\n",
    "    [\n",
    "        (\"system\", system_prompt), \n",
    "        (\"user\", \"{input}\")\n",
    "    ]\n",
    ")"
   ]
  },
  {
   "cell_type": "code",
   "execution_count": 30,
   "metadata": {},
   "outputs": [],
   "source": [
    "from langchain_core.output_parsers import JsonOutputParser"
   ]
  },
  {
   "cell_type": "code",
   "execution_count": 35,
   "metadata": {},
   "outputs": [
    {
     "data": {
      "text/plain": [
       "ChatPromptTemplate(input_variables=['input'], messages=[SystemMessagePromptTemplate(prompt=PromptTemplate(input_variables=[], template=\"Usted es un asistente que tiene acceso al siguiente conjunto de herramientas. Estos son los nombres y descripciones de cada herramienta:\\n\\nadd: add(first_int: int, second_int: int) -> int - Suma dos números enteros.\\nexponentiate: exponentiate(base: int, exponent: int) -> int - Exponenciar la base a la potencia del exponente.\\nmultiply: multiply(first_int: int, second_int: int) -> int - Multiplica dos números enteros.\\n\\nDada la entrada del usuario, devuelva únicamente el nombre y los argumentos de la herramienta a utilizar en formato JSON válido. La respuesta debe ser un JSON con las claves 'name' y 'arguments', donde 'arguments' es un diccionario con los argumentos de la herramienta. No incluya ninguna otra explicación en la respuesta.\\n\")), HumanMessagePromptTemplate(prompt=PromptTemplate(input_variables=['input'], template='{input}'))])\n",
       "| ChatGroq(client=<groq.resources.chat.completions.Completions object at 0x000001E7045006A0>, async_client=<groq.resources.chat.completions.AsyncCompletions object at 0x000001E7043A42B0>, model_name='llama3-70b-8192', temperature=1e-08, groq_api_key=SecretStr('**********'))\n",
       "| JsonOutputParser()\n",
       "| RunnableLambda(tool_chain)"
      ]
     },
     "execution_count": 35,
     "metadata": {},
     "output_type": "execute_result"
    }
   ],
   "source": [
    "chain = prompt | llm | JsonOutputParser() | tool_chain\n",
    "chain"
   ]
  },
  {
   "cell_type": "code",
   "execution_count": 36,
   "metadata": {},
   "outputs": [
    {
     "data": {
      "text/plain": [
       "3396"
      ]
     },
     "execution_count": 36,
     "metadata": {},
     "output_type": "execute_result"
    }
   ],
   "source": [
    "resultado = chain.invoke({\"input\": \"¿Cuanto es tres por 1132?\"})\n",
    "resultado"
   ]
  },
  {
   "cell_type": "markdown",
   "metadata": {},
   "source": [
    "# Devolver entradas de herramientas"
   ]
  },
  {
   "cell_type": "code",
   "execution_count": 37,
   "metadata": {},
   "outputs": [],
   "source": [
    "from langchain_core.runnables import RunnablePassthrough"
   ]
  },
  {
   "cell_type": "code",
   "execution_count": 38,
   "metadata": {},
   "outputs": [
    {
     "data": {
      "text/plain": [
       "ChatPromptTemplate(input_variables=['input'], messages=[SystemMessagePromptTemplate(prompt=PromptTemplate(input_variables=[], template=\"Usted es un asistente que tiene acceso al siguiente conjunto de herramientas. Estos son los nombres y descripciones de cada herramienta:\\n\\nadd: add(first_int: int, second_int: int) -> int - Suma dos números enteros.\\nexponentiate: exponentiate(base: int, exponent: int) -> int - Exponenciar la base a la potencia del exponente.\\nmultiply: multiply(first_int: int, second_int: int) -> int - Multiplica dos números enteros.\\n\\nDada la entrada del usuario, devuelva únicamente el nombre y los argumentos de la herramienta a utilizar en formato JSON válido. La respuesta debe ser un JSON con las claves 'name' y 'arguments', donde 'arguments' es un diccionario con los argumentos de la herramienta. No incluya ninguna otra explicación en la respuesta.\\n\")), HumanMessagePromptTemplate(prompt=PromptTemplate(input_variables=['input'], template='{input}'))])\n",
       "| ChatGroq(client=<groq.resources.chat.completions.Completions object at 0x000001E7045006A0>, async_client=<groq.resources.chat.completions.AsyncCompletions object at 0x000001E7043A42B0>, model_name='llama3-70b-8192', temperature=1e-08, groq_api_key=SecretStr('**********'))\n",
       "| JsonOutputParser()\n",
       "| RunnableAssign(mapper={\n",
       "    output: RunnableLambda(tool_chain)\n",
       "  })"
      ]
     },
     "execution_count": 38,
     "metadata": {},
     "output_type": "execute_result"
    }
   ],
   "source": [
    "chain = (\n",
    "    prompt | llm | JsonOutputParser() | RunnablePassthrough.assign(output=tool_chain)\n",
    ")\n",
    "chain"
   ]
  },
  {
   "cell_type": "code",
   "execution_count": 39,
   "metadata": {},
   "outputs": [
    {
     "data": {
      "text/plain": [
       "{'name': 'add',\n",
       " 'arguments': {'first_int': 1120, 'second_int': 11098},\n",
       " 'output': 12218}"
      ]
     },
     "execution_count": 39,
     "metadata": {},
     "output_type": "execute_result"
    }
   ],
   "source": [
    "resultado = chain.invoke({\"input\": \"¿Cuanto es mil ciento veinte más 11098?\"})\n",
    "resultado"
   ]
  }
 ],
 "metadata": {
  "kernelspec": {
   "display_name": "v2email",
   "language": "python",
   "name": "python3"
  },
  "language_info": {
   "codemirror_mode": {
    "name": "ipython",
    "version": 3
   },
   "file_extension": ".py",
   "mimetype": "text/x-python",
   "name": "python",
   "nbconvert_exporter": "python",
   "pygments_lexer": "ipython3",
   "version": "3.10.6"
  }
 },
 "nbformat": 4,
 "nbformat_minor": 2
}
