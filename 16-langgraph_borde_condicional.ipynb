{
 "cells": [
  {
   "cell_type": "code",
   "execution_count": 76,
   "metadata": {},
   "outputs": [
    {
     "data": {
      "text/plain": [
       "True"
      ]
     },
     "execution_count": 76,
     "metadata": {},
     "output_type": "execute_result"
    }
   ],
   "source": [
    "from dotenv import load_dotenv\n",
    "from langchain_groq import ChatGroq\n",
    "from langchain_core.tools import tool\n",
    "from langgraph.prebuilt import ToolNode\n",
    "import os\n",
    "from langgraph.graph import END , MessageGraph\n",
    "from typing import Literal, List\n",
    "from langchain_core.messages import BaseMessage, HumanMessage\n",
    "load_dotenv()"
   ]
  },
  {
   "cell_type": "code",
   "execution_count": 77,
   "metadata": {},
   "outputs": [],
   "source": [
    "os.environ['LANGCHAIN_TRACING_V2'] = os.getenv('LANGCHAIN_TRACING_V2')\n",
    "os.environ['LANGCHAIN_ENDPOINT'] = os.getenv('LANGCHAIN_ENDPOINT')\n",
    "os.environ['LANGCHAIN_API_KEY'] = os.getenv('LANGCHAIN_API_KEY')\n",
    "os.environ['LANGCHAIN_PROJECT'] = os.getenv('LANGCHAIN_PROJECT')\n",
    "os.environ['GROQ_API_KEY'] = os.getenv('GROQ_API_KEY')"
   ]
  },
  {
   "cell_type": "code",
   "execution_count": 78,
   "metadata": {},
   "outputs": [],
   "source": [
    "@tool\n",
    "def multiply(first_number: int, second_number: int):\n",
    "    \"\"\"Multiplica dos números entre sí.\"\"\"\n",
    "    return first_number * second_number"
   ]
  },
  {
   "cell_type": "markdown",
   "metadata": {},
   "source": [
    "### Configuración del modelo LLM:"
   ]
  },
  {
   "cell_type": "code",
   "execution_count": 79,
   "metadata": {},
   "outputs": [],
   "source": [
    "GROQ_LLM = ChatGroq(temperature=0,model=\"llama3-70b-8192\")"
   ]
  },
  {
   "cell_type": "markdown",
   "metadata": {},
   "source": [
    "### Añadir herramienta al modelo"
   ]
  },
  {
   "cell_type": "code",
   "execution_count": 80,
   "metadata": {},
   "outputs": [],
   "source": [
    "modelo_con_herramienta = GROQ_LLM.bind_tools([multiply])"
   ]
  },
  {
   "cell_type": "markdown",
   "metadata": {},
   "source": [
    "se vincula la herramienta multiply al modelo utilizando bind_tools. Esto permite que el modelo LLM llame a la función multiply cuando sea necesario"
   ]
  },
  {
   "cell_type": "markdown",
   "metadata": {},
   "source": [
    "### Creación del grafo de mensajes"
   ]
  },
  {
   "cell_type": "code",
   "execution_count": 81,
   "metadata": {},
   "outputs": [],
   "source": [
    "grafo = MessageGraph()"
   ]
  },
  {
   "cell_type": "markdown",
   "metadata": {},
   "source": [
    "Se crea una instancia de MessageGraph "
   ]
  },
  {
   "cell_type": "code",
   "execution_count": 82,
   "metadata": {},
   "outputs": [],
   "source": [
    "grafo.add_node(\"oracle\", modelo_con_herramienta)"
   ]
  },
  {
   "cell_type": "markdown",
   "metadata": {},
   "source": [
    "Se añade un nodo llamado \"oracle\" que utiliza el modelo modelo_con_herramienta. Este nodo será el punto de entrada para el grafo"
   ]
  },
  {
   "cell_type": "markdown",
   "metadata": {},
   "source": [
    "### Añadir un nodo de herramienta al grafo"
   ]
  },
  {
   "cell_type": "code",
   "execution_count": 83,
   "metadata": {},
   "outputs": [],
   "source": [
    "herramienta_nodo = ToolNode([multiply])"
   ]
  },
  {
   "cell_type": "code",
   "execution_count": 84,
   "metadata": {},
   "outputs": [],
   "source": [
    "grafo.add_node(\"multiply\", herramienta_nodo)"
   ]
  },
  {
   "cell_type": "markdown",
   "metadata": {},
   "source": [
    "Se crea un ToolNode con la herramienta multiply y se añade al grafo como un nodo llamado \"multiply\". Este nodo se encargará de ejecutar la función multiply cuando sea necesario"
   ]
  },
  {
   "cell_type": "markdown",
   "metadata": {},
   "source": [
    "### Añadir un borde (edge) al grafo"
   ]
  },
  {
   "cell_type": "code",
   "execution_count": 85,
   "metadata": {},
   "outputs": [],
   "source": [
    "grafo.add_edge(\"multiply\", END)"
   ]
  },
  {
   "cell_type": "markdown",
   "metadata": {},
   "source": [
    "Este borde conecta el nodo \"multiply\" con el nodo final END, indicando que después de procesar el nodo \"multiply\", el flujo del grafo terminará​"
   ]
  },
  {
   "cell_type": "markdown",
   "metadata": {},
   "source": [
    "### Establecer el punto de entrada"
   ]
  },
  {
   "cell_type": "code",
   "execution_count": 86,
   "metadata": {},
   "outputs": [],
   "source": [
    "grafo.set_entry_point(\"oracle\")"
   ]
  },
  {
   "cell_type": "markdown",
   "metadata": {},
   "source": [
    "Se establece \"oracle\" como el punto de entrada del grafo. Esto significa que el procesamiento del grafo comenzará desde este nodo"
   ]
  },
  {
   "cell_type": "markdown",
   "metadata": {},
   "source": [
    "### Definir una función de enrutamiento condicional"
   ]
  },
  {
   "cell_type": "code",
   "execution_count": 87,
   "metadata": {},
   "outputs": [],
   "source": [
    "def router(state: List[BaseMessage]) -> Literal[\"multiply\", \"__end__\"]:\n",
    "    tool_calls = state[-1].additional_kwargs.get(\"tool_calls\", [])\n",
    "    if len(tool_calls):\n",
    "        return \"multiply\"\n",
    "    else:\n",
    "        return \"__end__\""
   ]
  },
  {
   "cell_type": "code",
   "execution_count": 88,
   "metadata": {},
   "outputs": [],
   "source": [
    "grafo.add_conditional_edges(\"oracle\", router)"
   ]
  },
  {
   "cell_type": "markdown",
   "metadata": {},
   "source": [
    "Se define una función router que determina el siguiente nodo a llamar basado en el estado actual. Si el último mensaje contiene llamadas a herramientas (tool_calls), se enruta al nodo \"multiply\". De lo contrario, se enruta al nodo __end__"
   ]
  },
  {
   "cell_type": "markdown",
   "metadata": {},
   "source": [
    "### Compilar y ejecutar el grafo"
   ]
  },
  {
   "cell_type": "code",
   "execution_count": 89,
   "metadata": {},
   "outputs": [],
   "source": [
    "runnable = grafo.compile()"
   ]
  },
  {
   "cell_type": "code",
   "execution_count": 90,
   "metadata": {},
   "outputs": [
    {
     "data": {
      "text/plain": [
       "[HumanMessage(content='Cuanto es 123 * 456?', id='bb121aaf-06c0-4845-bb82-90c6b6eb62ef'),\n",
       " AIMessage(content='', additional_kwargs={'tool_calls': [{'id': 'call_hc5c', 'function': {'arguments': '{\"first_number\":123,\"second_number\":456}', 'name': 'multiply'}, 'type': 'function'}]}, response_metadata={'token_usage': {'completion_time': 0.243, 'completion_tokens': 76, 'prompt_time': 0.294, 'prompt_tokens': 917, 'queue_time': None, 'total_time': 0.5369999999999999, 'total_tokens': 993}, 'model_name': 'llama3-70b-8192', 'system_fingerprint': 'fp_abd29e8833', 'finish_reason': 'tool_calls', 'logprobs': None}, id='run-3123d9fd-b437-4c7a-b2da-5fcb0b60073b-0', tool_calls=[{'name': 'multiply', 'args': {'first_number': 123, 'second_number': 456}, 'id': 'call_hc5c'}]),\n",
       " ToolMessage(content='56088', name='multiply', id='4a3b036d-057f-4246-97c9-007328d75a38', tool_call_id='call_hc5c')]"
      ]
     },
     "execution_count": 90,
     "metadata": {},
     "output_type": "execute_result"
    }
   ],
   "source": [
    "resultado = runnable.invoke(HumanMessage(\"Cuanto es 123 * 456?\"))\n",
    "resultado"
   ]
  },
  {
   "cell_type": "code",
   "execution_count": 91,
   "metadata": {},
   "outputs": [
    {
     "name": "stdout",
     "output_type": "stream",
     "text": [
      "56088\n"
     ]
    }
   ],
   "source": [
    "print(resultado[2].content)"
   ]
  },
  {
   "cell_type": "markdown",
   "metadata": {},
   "source": [
    "Se compila el grafo en un objeto runnable y se invoca con el mensaje humano \"Cuanto es 123 * 456?\". Esto ejecuta el flujo definido en el grafo, pasando por el nodo \"oracle\" y luego, si es necesario, por el nodo \"multiply\" para calcular el resultado de la multiplicación"
   ]
  },
  {
   "cell_type": "code",
   "execution_count": 92,
   "metadata": {},
   "outputs": [
    {
     "data": {
      "text/plain": [
       "[HumanMessage(content='¿Cual es tu nombre?', id='622c5d8d-068d-47ab-aee9-32d09612c5e9'),\n",
       " AIMessage(content='Soy una inteligencia artificial, no tengo un nombre personal, pero puedo interactuar contigo de manera amistosa y ayudarte en lo que necesites. ¿En qué puedo ayudarte hoy?', response_metadata={'token_usage': {'completion_time': 0.136, 'completion_tokens': 41, 'prompt_time': 0.3, 'prompt_tokens': 915, 'queue_time': None, 'total_time': 0.436, 'total_tokens': 956}, 'model_name': 'llama3-70b-8192', 'system_fingerprint': 'fp_9625f32860', 'finish_reason': 'stop', 'logprobs': None}, id='run-c38c1141-ed86-44f6-a593-0993ad6fcdbd-0')]"
      ]
     },
     "execution_count": 92,
     "metadata": {},
     "output_type": "execute_result"
    }
   ],
   "source": [
    "resultado = runnable.invoke(HumanMessage(\"¿Cual es tu nombre?\"))\n",
    "resultado"
   ]
  },
  {
   "cell_type": "code",
   "execution_count": 93,
   "metadata": {},
   "outputs": [
    {
     "name": "stdout",
     "output_type": "stream",
     "text": [
      "Soy una inteligencia artificial, no tengo un nombre personal, pero puedo interactuar contigo de manera amistosa y ayudarte en lo que necesites. ¿En qué puedo ayudarte hoy?\n"
     ]
    }
   ],
   "source": [
    "print(resultado[1].content)"
   ]
  },
  {
   "cell_type": "markdown",
   "metadata": {},
   "source": [
    "Esta consulta no necesita llamar a la herramienta y responde normalmente."
   ]
  }
 ],
 "metadata": {
  "kernelspec": {
   "display_name": "v2email",
   "language": "python",
   "name": "python3"
  },
  "language_info": {
   "codemirror_mode": {
    "name": "ipython",
    "version": 3
   },
   "file_extension": ".py",
   "mimetype": "text/x-python",
   "name": "python",
   "nbconvert_exporter": "python",
   "pygments_lexer": "ipython3",
   "version": "3.10.6"
  }
 },
 "nbformat": 4,
 "nbformat_minor": 2
}
