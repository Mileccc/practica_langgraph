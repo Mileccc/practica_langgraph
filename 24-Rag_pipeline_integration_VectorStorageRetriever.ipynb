{
 "cells": [
  {
   "cell_type": "code",
   "execution_count": 93,
   "metadata": {},
   "outputs": [
    {
     "data": {
      "text/plain": [
       "True"
      ]
     },
     "execution_count": 93,
     "metadata": {},
     "output_type": "execute_result"
    }
   ],
   "source": [
    "import os\n",
    "from dotenv import load_dotenv\n",
    "from langchain_community.document_loaders import TextLoader, DirectoryLoader\n",
    "from langchain.text_splitter import RecursiveCharacterTextSplitter\n",
    "from langchain_community.vectorstores import Chroma\n",
    "from langchain_community.embeddings import HuggingFaceEmbeddings\n",
    "from pathlib import Path\n",
    "from langchain.docstore.document import Document\n",
    "import torch \n",
    "import numpy as np\n",
    "load_dotenv()"
   ]
  },
  {
   "cell_type": "code",
   "execution_count": 94,
   "metadata": {},
   "outputs": [],
   "source": [
    "os.environ['LANGCHAIN_TRACING_V2'] = os.getenv('LANGCHAIN_TRACING_V2')\n",
    "os.environ['LANGCHAIN_ENDPOINT'] = os.getenv('LANGCHAIN_ENDPOINT')\n",
    "os.environ['LANGCHAIN_API_KEY'] = os.getenv('LANGCHAIN_API_KEY')\n",
    "os.environ['LANGCHAIN_PROJECT'] = os.getenv('LANGCHAIN_PROJECT')\n",
    "os.environ['TAVILY_API_KEY'] = os.getenv('TAVILY_API_KEY')\n",
    "os.environ['ANTHROPIC_API_KEY'] = os.getenv('ANTHROPIC_API_KEY')\n",
    "os.environ['GROQ_API_KEY'] = os.getenv('GROQ_API_KEY')\n"
   ]
  },
  {
   "cell_type": "code",
   "execution_count": 95,
   "metadata": {},
   "outputs": [],
   "source": [
    "class Utf8TextLoader(TextLoader):\n",
    "    def __init__(self, file_path):\n",
    "        self.file_path = file_path\n",
    "\n",
    "    def load(self):\n",
    "        with open(self.file_path, 'r', encoding='utf-8') as f:\n",
    "            return f.read()\n",
    "\n",
    "\n",
    "def read_text_file(file_path):\n",
    "    return Path(file_path).read_text(encoding='utf-8')\n",
    "\n",
    "\n",
    "def create_documents_from_files(file_paths):\n",
    "    documents = []\n",
    "    for file_path in file_paths:\n",
    "        content = read_text_file(file_path)\n",
    "        documents.append(Document(page_content=content))\n",
    "    return documents"
   ]
  },
  {
   "cell_type": "code",
   "execution_count": 96,
   "metadata": {},
   "outputs": [],
   "source": [
    "file_paths = list(Path('./source').glob(\"*.txt\"))\n",
    "docs = create_documents_from_files(file_paths)"
   ]
  },
  {
   "cell_type": "code",
   "execution_count": 97,
   "metadata": {},
   "outputs": [],
   "source": [
    "text_splitter = RecursiveCharacterTextSplitter(\n",
    "    chunk_size=400,\n",
    "    chunk_overlap=40,\n",
    "    length_function=len,\n",
    ")"
   ]
  },
  {
   "cell_type": "code",
   "execution_count": 98,
   "metadata": {},
   "outputs": [
    {
     "name": "stdout",
     "output_type": "stream",
     "text": [
      "[{'page_content': 'El deporte es una actividad física que desempeña un papel crucial en la vida de las personas en todo el mundo. No solo es una fuente de entretenimiento y competencia, sino que también promueve la salud física y mental, fomenta el trabajo en equipo y contribuye al desarrollo de valores sociales y culturales. La diversidad de disciplinas deportivas, desde el fútbol y el baloncesto hasta el atletismo'}, {'page_content': 'y el baloncesto hasta el atletismo y la natación, ofrece opciones para todos los gustos y habilidades, haciendo del deporte una parte integral de la sociedad moderna.'}, {'page_content': 'Uno de los deportes más populares a nivel global es el fútbol. Conocido como \"el deporte rey\", el fútbol se juega y se sigue fervientemente en todos los continentes. La Copa Mundial de la FIFA, celebrada cada cuatro años, es uno de los eventos deportivos más vistos en el planeta, uniendo a millones de aficionados en una celebración de habilidad, estrategia y pasión. Las ligas de fútbol de todo el'}, {'page_content': 'pasión. Las ligas de fútbol de todo el mundo, como la Premier League en Inglaterra, La Liga en España y la Serie A en Italia, atraen a audiencias masivas y generan ingresos multimillonarios, reflejando la magnitud y el impacto de este deporte.'}, {'page_content': 'El baloncesto es otro deporte con un alcance global significativo. Originado en Estados Unidos, el baloncesto ha ganado popularidad en todo el mundo, en parte gracias a la NBA (National Basketball Association), que ha producido algunas de las estrellas deportivas más reconocidas y admiradas, como Michael Jordan, LeBron James y Kobe Bryant. Además de la NBA, las competiciones internacionales como'}, {'page_content': 'las competiciones internacionales como los Juegos Olímpicos y la FIBA World Cup destacan el talento global y fomentan la competencia entre los mejores equipos y jugadores de diversos países.'}, {'page_content': 'El atletismo, considerado la forma más pura del deporte, engloba una variedad de disciplinas como las carreras de velocidad, el salto de longitud, el lanzamiento de jabalina y el maratón. Los Juegos Olímpicos, el evento deportivo más prestigioso y antiguo, son el pináculo del atletismo, donde atletas de todo el mundo compiten por la gloria y el honor de sus naciones. El atletismo no solo pone a'}, {'page_content': 'naciones. El atletismo no solo pone a prueba la capacidad física, sino también la perseverancia, la disciplina y el espíritu deportivo de los competidores.'}, {'page_content': 'La natación es otra disciplina que ha capturado la atención y el respeto del público internacional. Los nadadores como Michael Phelps y Katie Ledecky han establecido récords impresionantes y han inspirado a generaciones de atletas jóvenes. La natación no solo es un deporte competitivo, sino también una habilidad vital, promoviendo la salud cardiovascular y la fuerza muscular. Además, el deporte'}, {'page_content': 'la fuerza muscular. Además, el deporte tiene una gran influencia en la rehabilitación y la terapia física, ayudando a las personas a recuperarse de lesiones y a mantener su movilidad.'}, {'page_content': 'El tenis es otro deporte que goza de gran popularidad a nivel mundial. Torneos como Wimbledon, el Abierto de Francia, el Abierto de Australia y el US Open son eventos clave en el calendario deportivo, atrayendo a los mejores jugadores del mundo y a millones de espectadores. Jugadores legendarios como Roger Federer, Serena Williams y Rafael Nadal han llevado el deporte a nuevas alturas, inspirando'}, {'page_content': 'el deporte a nuevas alturas, inspirando a jóvenes tenistas y contribuyendo al crecimiento del tenis en todo el mundo.'}, {'page_content': 'Más allá de los deportes más conocidos, existen muchas otras disciplinas que también juegan un papel importante en la cultura deportiva global. El rugby, el cricket, el golf, el ciclismo, y los deportes de invierno como el esquí y el patinaje sobre hielo, cada uno tiene su propio conjunto de seguidores y contribuye a la diversidad y riqueza del panorama deportivo. Cada deporte ofrece sus propios'}, {'page_content': 'Cada deporte ofrece sus propios desafíos únicos y requiere un conjunto específico de habilidades, tácticas y estrategias.'}, {'page_content': 'El deporte también tiene un impacto significativo en la salud pública. La actividad física regular es esencial para mantener un estilo de vida saludable, reduciendo el riesgo de enfermedades crónicas como la diabetes, la hipertensión y las enfermedades cardíacas. Además, el deporte promueve la salud mental, ayudando a reducir el estrés, la ansiedad y la depresión. La participación en actividades'}, {'page_content': 'La participación en actividades deportivas fomenta el bienestar emocional, el desarrollo social y el sentido de comunidad.'}, {'page_content': 'Además de sus beneficios para la salud, el deporte desempeña un papel importante en la educación y el desarrollo personal. Los programas deportivos en las escuelas y las comunidades enseñan a los jóvenes habilidades valiosas como la disciplina, el trabajo en equipo, la responsabilidad y el liderazgo. A través del deporte, los jóvenes aprenden la importancia de establecer metas, trabajar duro para'}, {'page_content': 'de establecer metas, trabajar duro para alcanzarlas y manejar tanto el éxito como el fracaso con gracia y humildad.'}, {'page_content': 'El deporte también tiene el poder de unir a las personas. Eventos deportivos masivos como los Juegos Olímpicos, la Copa Mundial de la FIFA y el Super Bowl reúnen a personas de diferentes culturas, razas y religiones, creando un sentido de unidad y camaradería. El deporte trasciende las barreras lingüísticas y culturales, fomentando el respeto mutuo y la comprensión entre los individuos y las'}, {'page_content': 'comprensión entre los individuos y las naciones.'}, {'page_content': 'En el ámbito profesional, el deporte es una industria multimillonaria que genera empleo y oportunidades económicas. Desde atletas y entrenadores hasta organizadores de eventos y periodistas deportivos, el deporte ofrece una amplia gama de carreras y contribuye significativamente a las economías locales y globales. Las marcas y patrocinadores invierten grandes sumas de dinero en el deporte,'}, {'page_content': 'grandes sumas de dinero en el deporte, reconociendo su capacidad para llegar a una audiencia masiva y comprometida.'}, {'page_content': 'En resumen, el deporte es una fuerza poderosa y multifacética en la sociedad moderna. Su impacto va más allá del entretenimiento y la competencia, influenciando la salud pública, la educación, el desarrollo personal y la economía global. Ya sea a través de la emoción de una final de la Copa Mundial, la dedicación de un atleta olímpico o la alegría de un niño jugando en su vecindario, el deporte'}, {'page_content': 'jugando en su vecindario, el deporte continúa inspirando y uniendo a las personas en todo el mundo, recordándonos el valor del esfuerzo, la perseverancia y la unidad.'}, {'page_content': 'Japón, conocido como la \"Tierra del Sol Naciente\", es un archipiélago situado en el este de Asia, compuesto por cuatro islas principales: Honshu, Hokkaido, Kyushu y Shikoku, además de miles de islas más pequeñas. Con una historia rica y compleja, Japón ha evolucionado de ser una nación feudal a una potencia económica y tecnológica global.'}, {'page_content': 'La cultura japonesa es un fascinante contraste entre la tradición y la modernidad. Por un lado, el país es famoso por sus antiguas prácticas y costumbres, como el arte del té, la ceremonia del kimono, y los jardines zen. Lugares emblemáticos como el Templo Senso-ji en Tokio, el Santuario Fushimi Inari-taisha en Kioto y el Castillo de Himeji son testamentos de su herencia histórica y'}, {'page_content': 'testamentos de su herencia histórica y arquitectónica.'}, {'page_content': 'La religión juega un papel importante en la vida de los japoneses, con el sintoísmo y el budismo siendo las principales prácticas espirituales. Los festivales, o matsuri, son celebraciones vibrantes y coloridas que reflejan estas creencias, siendo algunos de los más conocidos el Gion Matsuri en Kioto y el Tanabata Matsuri en Sendai.'}, {'page_content': 'Japón también es un líder mundial en tecnología e innovación. Ciudades como Tokio y Osaka son centros neurálgicos de avances tecnológicos, hogar de gigantes de la industria como Sony, Toyota y Nintendo. El sistema de transporte japonés es admirado en todo el mundo, con sus trenes bala, o shinkansen, que conectan rápidamente las principales ciudades del país.'}, {'page_content': 'La gastronomía japonesa es otra de sus grandes atracciones. Desde el sushi y el sashimi hasta el ramen y el tempura, la cocina japonesa es conocida por su exquisita presentación y sus sabores delicados. El izakaya, una especie de taberna, es un lugar popular para disfrutar de una variedad de platos pequeños y sake, la tradicional bebida alcohólica japonesa hecha de arroz.'}, {'page_content': 'La naturaleza de Japón es igualmente impresionante, con paisajes que varían desde las montañas nevadas de Hokkaido hasta las playas tropicales de Okinawa. El Monte Fuji, la montaña más alta de Japón, es un símbolo icónico y una popular atracción turística. Durante la primavera, el país se transforma con el florecimiento de los cerezos, un fenómeno conocido como hanami, que atrae a millones de'}, {'page_content': 'como hanami, que atrae a millones de visitantes.'}, {'page_content': 'En términos de educación y ética laboral, Japón es conocido por su riguroso sistema educativo y su cultura de trabajo dedicada. La disciplina y el respeto son valores profundamente arraigados en la sociedad japonesa, lo que se refleja en su sistema educativo y en su enfoque hacia el trabajo.'}, {'page_content': 'A pesar de ser una de las economías más avanzadas del mundo, Japón enfrenta desafíos significativos. El envejecimiento de la población y la baja tasa de natalidad son preocupaciones importantes que el país debe abordar para asegurar un futuro próspero. Además, los desastres naturales, como terremotos y tsunamis, son riesgos constantes debido a la ubicación geográfica del país.'}, {'page_content': 'En resumen, Japón es una nación de contrastes y armonía, donde la antigua cultura y las tradiciones coexisten con la innovación y la modernidad. Es un país que ha dejado una huella indeleble en el mundo a través de su arte, tecnología, gastronomía y filosofía. Japón no solo es un lugar de belleza y misterio, sino también un ejemplo de resiliencia y progreso.'}]\n"
     ]
    }
   ],
   "source": [
    "new_docs = text_splitter.split_documents(documents=docs)\n",
    "doc_strings = [{\"page_content\": doc.page_content} for doc in new_docs]\n",
    "print(doc_strings)"
   ]
  },
  {
   "cell_type": "code",
   "execution_count": 99,
   "metadata": {},
   "outputs": [],
   "source": [
    "device = 'cuda' if torch.cuda.is_available() else 'cpu'"
   ]
  },
  {
   "cell_type": "code",
   "execution_count": 100,
   "metadata": {},
   "outputs": [
    {
     "name": "stdout",
     "output_type": "stream",
     "text": [
      "Using device: cpu\n"
     ]
    }
   ],
   "source": [
    "print(f\"Using device: {device}\")"
   ]
  },
  {
   "cell_type": "code",
   "execution_count": 101,
   "metadata": {},
   "outputs": [],
   "source": [
    "class VectorStoreRetriever:\n",
    "    def __init__(self, docs: list, vectors: list, oai_client):\n",
    "        self._arr = np.array(vectors)\n",
    "        self._docs = docs\n",
    "        self._client = oai_client\n",
    "\n",
    "    @classmethod\n",
    "    def from_docs(cls, docs, oai_client):\n",
    "        embeddings = oai_client.embed_documents([doc[\"page_content\"] for doc in docs])\n",
    "        vectors = embeddings\n",
    "        return cls(docs, vectors, oai_client)\n",
    "\n",
    "    def query(self, query: str, k: int = 5) -> list[dict]:\n",
    "        embed = self._client.embed_query(query)\n",
    "        # \"@\" is just a matrix multiplication in python\n",
    "        scores = np.array(embed) @ self._arr.T\n",
    "        top_k_idx = np.argpartition(scores, -k)[-k:]\n",
    "        top_k_idx_sorted = top_k_idx[np.argsort(-scores[top_k_idx])]\n",
    "        return [\n",
    "            {**self._docs[idx], \"similarity\": scores[idx]} for idx in top_k_idx_sorted\n",
    "        ]"
   ]
  },
  {
   "cell_type": "code",
   "execution_count": 102,
   "metadata": {},
   "outputs": [
    {
     "name": "stderr",
     "output_type": "stream",
     "text": [
      "d:\\Proyecto_holagrama_IA\\LanGraph\\v2email\\lib\\site-packages\\huggingface_hub\\file_download.py:1132: FutureWarning: `resume_download` is deprecated and will be removed in version 1.0.0. Downloads always resume when possible. If you want to force a new download, use `force_download=True`.\n",
      "  warnings.warn(\n"
     ]
    }
   ],
   "source": [
    "embeddings  = HuggingFaceEmbeddings(\n",
    "    model_name=\"sentence-transformers/all-mpnet-base-v2\"\n",
    ")"
   ]
  },
  {
   "cell_type": "code",
   "execution_count": 103,
   "metadata": {},
   "outputs": [
    {
     "data": {
      "text/plain": [
       "<__main__.VectorStoreRetriever at 0x27620ad7fa0>"
      ]
     },
     "execution_count": 103,
     "metadata": {},
     "output_type": "execute_result"
    }
   ],
   "source": [
    "retriever = VectorStoreRetriever.from_docs(doc_strings, embeddings)\n",
    "retriever"
   ]
  },
  {
   "cell_type": "code",
   "execution_count": 104,
   "metadata": {},
   "outputs": [
    {
     "data": {
      "text/plain": [
       "[{'page_content': 'La cultura japonesa es un fascinante contraste entre la tradición y la modernidad. Por un lado, el país es famoso por sus antiguas prácticas y costumbres, como el arte del té, la ceremonia del kimono, y los jardines zen. Lugares emblemáticos como el Templo Senso-ji en Tokio, el Santuario Fushimi Inari-taisha en Kioto y el Castillo de Himeji son testamentos de su herencia histórica y',\n",
       "  'similarity': 0.7457335445106505},\n",
       " {'page_content': 'En términos de educación y ética laboral, Japón es conocido por su riguroso sistema educativo y su cultura de trabajo dedicada. La disciplina y el respeto son valores profundamente arraigados en la sociedad japonesa, lo que se refleja en su sistema educativo y en su enfoque hacia el trabajo.',\n",
       "  'similarity': 0.6147988173149525},\n",
       " {'page_content': 'como hanami, que atrae a millones de visitantes.',\n",
       "  'similarity': 0.6093569503833363},\n",
       " {'page_content': 'En resumen, Japón es una nación de contrastes y armonía, donde la antigua cultura y las tradiciones coexisten con la innovación y la modernidad. Es un país que ha dejado una huella indeleble en el mundo a través de su arte, tecnología, gastronomía y filosofía. Japón no solo es un lugar de belleza y misterio, sino también un ejemplo de resiliencia y progreso.',\n",
       "  'similarity': 0.6092124041711019},\n",
       " {'page_content': 'La religión juega un papel importante en la vida de los japoneses, con el sintoísmo y el budismo siendo las principales prácticas espirituales. Los festivales, o matsuri, son celebraciones vibrantes y coloridas que reflejan estas creencias, siendo algunos de los más conocidos el Gion Matsuri en Kioto y el Tanabata Matsuri en Sendai.',\n",
       "  'similarity': 0.6056422838588414}]"
      ]
     },
     "execution_count": 104,
     "metadata": {},
     "output_type": "execute_result"
    }
   ],
   "source": [
    "resultado =retriever.query(query=\"Cuentame sobre la cultura japonesa\")\n",
    "resultado"
   ]
  },
  {
   "cell_type": "markdown",
   "metadata": {},
   "source": [
    "En extensión .py funciona bien y da el formato bien"
   ]
  }
 ],
 "metadata": {
  "kernelspec": {
   "display_name": "v2email",
   "language": "python",
   "name": "python3"
  },
  "language_info": {
   "codemirror_mode": {
    "name": "ipython",
    "version": 3
   },
   "file_extension": ".py",
   "mimetype": "text/x-python",
   "name": "python",
   "nbconvert_exporter": "python",
   "pygments_lexer": "ipython3",
   "version": "3.10.6"
  }
 },
 "nbformat": 4,
 "nbformat_minor": 2
}
