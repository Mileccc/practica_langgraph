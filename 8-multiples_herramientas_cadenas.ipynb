{
 "cells": [
  {
   "cell_type": "code",
   "execution_count": 1,
   "metadata": {},
   "outputs": [],
   "source": [
    "import getpass\n",
    "import os\n",
    "from langchain_core.prompts import ChatPromptTemplate\n",
    "from langchain_core.pydantic_v1 import BaseModel, Field, validator\n",
    "from langchain_groq import ChatGroq\n",
    "from dotenv import load_dotenv"
   ]
  },
  {
   "cell_type": "code",
   "execution_count": 2,
   "metadata": {},
   "outputs": [],
   "source": [
    "os.environ['GROQ_API_KEY'] = os.getenv('GROQ_API_KEY')\n",
    "os.environ['TAVILY_API_KEY'] = os.getenv('TAVILY_API_KEY')\n",
    "os.environ['LANGCHAIN_TRACING_V2'] = os.getenv('LANGCHAIN_TRACING_V2')\n",
    "os.environ['LANGCHAIN_ENDPOINT'] = os.getenv('LANGCHAIN_ENDPOINT')\n",
    "os.environ['LANGCHAIN_API_KEY'] = os.getenv('LANGCHAIN_API_KEY')\n",
    "os.environ['LANGCHAIN_PROJECT'] = os.getenv('LANGCHAIN_PROJECT')"
   ]
  },
  {
   "cell_type": "code",
   "execution_count": 3,
   "metadata": {},
   "outputs": [],
   "source": [
    "from langchain_core.tools import tool"
   ]
  },
  {
   "cell_type": "code",
   "execution_count": 5,
   "metadata": {},
   "outputs": [],
   "source": [
    "@tool\n",
    "def multiply(first_int: int, second_int: int) -> int:\n",
    "    \"\"\"Multiplica dos números enteros.\"\"\"\n",
    "    return first_int * second_int\n",
    "\n",
    "@tool\n",
    "def add(first_int: int, second_int: int) -> int:\n",
    "    \"Suma dos números enteros.\"\n",
    "    return first_int + second_int\n",
    "\n",
    "@tool\n",
    "def exponentiate(base: int, exponent: int) -> int:\n",
    "    \"Exponentiza la base a la potencia del exponente.\"\n",
    "    return base**exponent"
   ]
  },
  {
   "cell_type": "code",
   "execution_count": 6,
   "metadata": {},
   "outputs": [],
   "source": [
    "llm = ChatGroq(temperature=0, model=\"llama3-70b-8192\")"
   ]
  },
  {
   "cell_type": "code",
   "execution_count": 8,
   "metadata": {},
   "outputs": [],
   "source": [
    "from operator import itemgetter\n",
    "from typing import Dict, List, Union\n",
    "from langchain_core.messages import AIMessage\n",
    "from langchain_core.runnables import (\n",
    "    Runnable,\n",
    "    RunnableLambda,\n",
    "    RunnableMap,\n",
    "    RunnablePassthrough,\n",
    ")"
   ]
  },
  {
   "cell_type": "code",
   "execution_count": 9,
   "metadata": {},
   "outputs": [
    {
     "data": {
      "text/plain": [
       "[StructuredTool(name='multiply', description='multiply(first_int: int, second_int: int) -> int - Multiplica dos números enteros.', args_schema=<class 'pydantic.v1.main.multiplySchema'>, func=<function multiply at 0x0000021CCA2C1BD0>),\n",
       " StructuredTool(name='exponentiate', description='exponentiate(base: int, exponent: int) -> int - Exponentiza la base a la potencia del exponente.', args_schema=<class 'pydantic.v1.main.exponentiateSchema'>, func=<function exponentiate at 0x0000021CCBFB0EE0>),\n",
       " StructuredTool(name='add', description='add(first_int: int, second_int: int) -> int - Suma dos números enteros.', args_schema=<class 'pydantic.v1.main.addSchema'>, func=<function add at 0x0000021CCA2C1E10>)]"
      ]
     },
     "execution_count": 9,
     "metadata": {},
     "output_type": "execute_result"
    }
   ],
   "source": [
    "tools = [multiply, exponentiate, add]\n",
    "tools"
   ]
  },
  {
   "cell_type": "code",
   "execution_count": 10,
   "metadata": {},
   "outputs": [
    {
     "data": {
      "text/plain": [
       "RunnableBinding(bound=ChatGroq(client=<groq.resources.chat.completions.Completions object at 0x0000021CCC44ECE0>, async_client=<groq.resources.chat.completions.AsyncCompletions object at 0x0000021CCC4FEB00>, model_name='llama3-70b-8192', temperature=1e-08, groq_api_key=SecretStr('**********')), kwargs={'tools': [{'type': 'function', 'function': {'name': 'multiply', 'description': 'multiply(first_int: int, second_int: int) -> int - Multiplica dos números enteros.', 'parameters': {'type': 'object', 'properties': {'first_int': {'type': 'integer'}, 'second_int': {'type': 'integer'}}, 'required': ['first_int', 'second_int']}}}, {'type': 'function', 'function': {'name': 'exponentiate', 'description': 'exponentiate(base: int, exponent: int) -> int - Exponentiza la base a la potencia del exponente.', 'parameters': {'type': 'object', 'properties': {'base': {'type': 'integer'}, 'exponent': {'type': 'integer'}}, 'required': ['base', 'exponent']}}}, {'type': 'function', 'function': {'name': 'add', 'description': 'add(first_int: int, second_int: int) -> int - Suma dos números enteros.', 'parameters': {'type': 'object', 'properties': {'first_int': {'type': 'integer'}, 'second_int': {'type': 'integer'}}, 'required': ['first_int', 'second_int']}}}]})"
      ]
     },
     "execution_count": 10,
     "metadata": {},
     "output_type": "execute_result"
    }
   ],
   "source": [
    "llm_with_tools = llm.bind_tools(tools)\n",
    "llm_with_tools"
   ]
  },
  {
   "cell_type": "code",
   "execution_count": 11,
   "metadata": {},
   "outputs": [
    {
     "data": {
      "text/plain": [
       "{'multiply': StructuredTool(name='multiply', description='multiply(first_int: int, second_int: int) -> int - Multiplica dos números enteros.', args_schema=<class 'pydantic.v1.main.multiplySchema'>, func=<function multiply at 0x0000021CCA2C1BD0>),\n",
       " 'exponentiate': StructuredTool(name='exponentiate', description='exponentiate(base: int, exponent: int) -> int - Exponentiza la base a la potencia del exponente.', args_schema=<class 'pydantic.v1.main.exponentiateSchema'>, func=<function exponentiate at 0x0000021CCBFB0EE0>),\n",
       " 'add': StructuredTool(name='add', description='add(first_int: int, second_int: int) -> int - Suma dos números enteros.', args_schema=<class 'pydantic.v1.main.addSchema'>, func=<function add at 0x0000021CCA2C1E10>)}"
      ]
     },
     "execution_count": 11,
     "metadata": {},
     "output_type": "execute_result"
    }
   ],
   "source": [
    "tool_map = {tool.name: tool for tool in tools}\n",
    "tool_map"
   ]
  },
  {
   "cell_type": "code",
   "execution_count": 12,
   "metadata": {},
   "outputs": [],
   "source": [
    "def call_tools(msg: AIMessage) -> Runnable:\n",
    "    \"\"\"Herramienta Simple secuencial de ayuda a la llamada.\"\"\"\n",
    "    tool_map = {tool.name: tool for tool in tools}\n",
    "    tool_calls = msg.tool_calls.copy()\n",
    "    for tool_call in tool_calls:\n",
    "        tool_call[\"output\"] = tool_map[tool_call[\"name\"]].invoke(tool_call[\"args\"])\n",
    "    return tool_calls"
   ]
  },
  {
   "cell_type": "code",
   "execution_count": 13,
   "metadata": {},
   "outputs": [
    {
     "data": {
      "text/plain": [
       "RunnableBinding(bound=ChatGroq(client=<groq.resources.chat.completions.Completions object at 0x0000021CCC44ECE0>, async_client=<groq.resources.chat.completions.AsyncCompletions object at 0x0000021CCC4FEB00>, model_name='llama3-70b-8192', temperature=1e-08, groq_api_key=SecretStr('**********')), kwargs={'tools': [{'type': 'function', 'function': {'name': 'multiply', 'description': 'multiply(first_int: int, second_int: int) -> int - Multiplica dos números enteros.', 'parameters': {'type': 'object', 'properties': {'first_int': {'type': 'integer'}, 'second_int': {'type': 'integer'}}, 'required': ['first_int', 'second_int']}}}, {'type': 'function', 'function': {'name': 'exponentiate', 'description': 'exponentiate(base: int, exponent: int) -> int - Exponentiza la base a la potencia del exponente.', 'parameters': {'type': 'object', 'properties': {'base': {'type': 'integer'}, 'exponent': {'type': 'integer'}}, 'required': ['base', 'exponent']}}}, {'type': 'function', 'function': {'name': 'add', 'description': 'add(first_int: int, second_int: int) -> int - Suma dos números enteros.', 'parameters': {'type': 'object', 'properties': {'first_int': {'type': 'integer'}, 'second_int': {'type': 'integer'}}, 'required': ['first_int', 'second_int']}}}]})\n",
       "| RunnableLambda(call_tools)"
      ]
     },
     "execution_count": 13,
     "metadata": {},
     "output_type": "execute_result"
    }
   ],
   "source": [
    "chain = llm_with_tools | call_tools\n",
    "chain"
   ]
  },
  {
   "cell_type": "code",
   "execution_count": 14,
   "metadata": {},
   "outputs": [
    {
     "data": {
      "text/plain": [
       "[{'name': 'multiply',\n",
       "  'args': {'first_int': 23, 'second_int': 7},\n",
       "  'id': 'call_ttwa',\n",
       "  'output': 161}]"
      ]
     },
     "execution_count": 14,
     "metadata": {},
     "output_type": "execute_result"
    }
   ],
   "source": [
    "resultado = chain.invoke(\"¿Cuanto es 23 veces siete?\")\n",
    "resultado"
   ]
  },
  {
   "cell_type": "code",
   "execution_count": 15,
   "metadata": {},
   "outputs": [
    {
     "data": {
      "text/plain": [
       "[{'name': 'add',\n",
       "  'args': {'first_int': 1000000, 'second_int': 1000000000},\n",
       "  'id': 'call_d3qn',\n",
       "  'output': 1001000000}]"
      ]
     },
     "execution_count": 15,
     "metadata": {},
     "output_type": "execute_result"
    }
   ],
   "source": [
    "resultado = chain.invoke(\"suma un millón más mil millones\")\n",
    "resultado"
   ]
  },
  {
   "cell_type": "code",
   "execution_count": 16,
   "metadata": {},
   "outputs": [
    {
     "data": {
      "text/plain": [
       "[{'name': 'exponentiate',\n",
       "  'args': {'base': 37, 'exponent': 3},\n",
       "  'id': 'call_mvk4',\n",
       "  'output': 50653}]"
      ]
     },
     "execution_count": 16,
     "metadata": {},
     "output_type": "execute_result"
    }
   ],
   "source": [
    "resultado = chain.invoke(\"¿Cuanto es treinta y siete al cubo?\")\n",
    "resultado"
   ]
  }
 ],
 "metadata": {
  "kernelspec": {
   "display_name": "v2email",
   "language": "python",
   "name": "python3"
  },
  "language_info": {
   "codemirror_mode": {
    "name": "ipython",
    "version": 3
   },
   "file_extension": ".py",
   "mimetype": "text/x-python",
   "name": "python",
   "nbconvert_exporter": "python",
   "pygments_lexer": "ipython3",
   "version": "3.10.6"
  }
 },
 "nbformat": 4,
 "nbformat_minor": 2
}
