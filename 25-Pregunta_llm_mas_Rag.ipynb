{
 "cells": [
  {
   "cell_type": "code",
   "execution_count": 22,
   "metadata": {},
   "outputs": [
    {
     "data": {
      "text/plain": [
       "True"
      ]
     },
     "execution_count": 22,
     "metadata": {},
     "output_type": "execute_result"
    }
   ],
   "source": [
    "import os\n",
    "from dotenv import load_dotenv\n",
    "from langchain_community.document_loaders import TextLoader, DirectoryLoader\n",
    "from langchain.text_splitter import RecursiveCharacterTextSplitter\n",
    "from langchain_community.vectorstores import Chroma\n",
    "from langchain_community.embeddings import HuggingFaceEmbeddings\n",
    "from pathlib import Path\n",
    "from langchain.docstore.document import Document\n",
    "from langchain_groq import ChatGroq\n",
    "from langchain_core.output_parsers import StrOutputParser\n",
    "from langchain_core.prompts import ChatPromptTemplate\n",
    "from langchain_core.runnables import RunnablePassthrough\n",
    "from langchain.chains import RetrievalQA\n",
    "from langchain.chains import create_retrieval_chain\n",
    "from langgraph.graph import Graph\n",
    "import torch \n",
    "load_dotenv()"
   ]
  },
  {
   "cell_type": "code",
   "execution_count": 23,
   "metadata": {},
   "outputs": [],
   "source": [
    "os.environ['LANGCHAIN_TRACING_V2'] = os.getenv('LANGCHAIN_TRACING_V2')\n",
    "os.environ['LANGCHAIN_ENDPOINT'] = os.getenv('LANGCHAIN_ENDPOINT')\n",
    "os.environ['LANGCHAIN_API_KEY'] = os.getenv('LANGCHAIN_API_KEY')\n",
    "os.environ['LANGCHAIN_PROJECT'] = os.getenv('LANGCHAIN_PROJECT')\n",
    "os.environ['TAVILY_API_KEY'] = os.getenv('TAVILY_API_KEY')\n",
    "os.environ['ANTHROPIC_API_KEY'] = os.getenv('ANTHROPIC_API_KEY')\n",
    "os.environ['GROQ_API_KEY'] = os.getenv('GROQ_API_KEY')\n"
   ]
  },
  {
   "cell_type": "code",
   "execution_count": 24,
   "metadata": {},
   "outputs": [],
   "source": [
    "class Utf8TextLoader(TextLoader):\n",
    "    def __init__(self, file_path):\n",
    "        self.file_path = file_path\n",
    "\n",
    "    def load(self):\n",
    "        with open(self.file_path, 'r', encoding='utf-8') as f:\n",
    "            return f.read()\n",
    "\n",
    "\n",
    "def read_text_file(file_path):\n",
    "    return Path(file_path).read_text(encoding='utf-8')\n",
    "\n",
    "\n",
    "def create_documents_from_files(file_paths):\n",
    "    documents = []\n",
    "    for file_path in file_paths:\n",
    "        content = read_text_file(file_path)\n",
    "        documents.append(Document(page_content=content))\n",
    "    return documents"
   ]
  },
  {
   "cell_type": "code",
   "execution_count": 25,
   "metadata": {},
   "outputs": [],
   "source": [
    "file_paths = list(Path('./source').glob(\"*.txt\"))\n",
    "docs = create_documents_from_files(file_paths)"
   ]
  },
  {
   "cell_type": "code",
   "execution_count": 26,
   "metadata": {},
   "outputs": [],
   "source": [
    "text_splitter = RecursiveCharacterTextSplitter(\n",
    "    chunk_size=400,\n",
    "    chunk_overlap=40,\n",
    "    length_function=len,\n",
    ")"
   ]
  },
  {
   "cell_type": "code",
   "execution_count": 27,
   "metadata": {},
   "outputs": [
    {
     "name": "stdout",
     "output_type": "stream",
     "text": [
      "['El deporte es una actividad física que desempeña un papel crucial en la vida de las personas en todo el mundo. No solo es una fuente de entretenimiento y competencia, sino que también promueve la salud física y mental, fomenta el trabajo en equipo y contribuye al desarrollo de valores sociales y culturales. La diversidad de disciplinas deportivas, desde el fútbol y el baloncesto hasta el atletismo', 'y el baloncesto hasta el atletismo y la natación, ofrece opciones para todos los gustos y habilidades, haciendo del deporte una parte integral de la sociedad moderna.', 'Uno de los deportes más populares a nivel global es el fútbol. Conocido como \"el deporte rey\", el fútbol se juega y se sigue fervientemente en todos los continentes. La Copa Mundial de la FIFA, celebrada cada cuatro años, es uno de los eventos deportivos más vistos en el planeta, uniendo a millones de aficionados en una celebración de habilidad, estrategia y pasión. Las ligas de fútbol de todo el', 'pasión. Las ligas de fútbol de todo el mundo, como la Premier League en Inglaterra, La Liga en España y la Serie A en Italia, atraen a audiencias masivas y generan ingresos multimillonarios, reflejando la magnitud y el impacto de este deporte.', 'El baloncesto es otro deporte con un alcance global significativo. Originado en Estados Unidos, el baloncesto ha ganado popularidad en todo el mundo, en parte gracias a la NBA (National Basketball Association), que ha producido algunas de las estrellas deportivas más reconocidas y admiradas, como Michael Jordan, LeBron James y Kobe Bryant. Además de la NBA, las competiciones internacionales como', 'las competiciones internacionales como los Juegos Olímpicos y la FIBA World Cup destacan el talento global y fomentan la competencia entre los mejores equipos y jugadores de diversos países.', 'El atletismo, considerado la forma más pura del deporte, engloba una variedad de disciplinas como las carreras de velocidad, el salto de longitud, el lanzamiento de jabalina y el maratón. Los Juegos Olímpicos, el evento deportivo más prestigioso y antiguo, son el pináculo del atletismo, donde atletas de todo el mundo compiten por la gloria y el honor de sus naciones. El atletismo no solo pone a', 'naciones. El atletismo no solo pone a prueba la capacidad física, sino también la perseverancia, la disciplina y el espíritu deportivo de los competidores.', 'La natación es otra disciplina que ha capturado la atención y el respeto del público internacional. Los nadadores como Michael Phelps y Katie Ledecky han establecido récords impresionantes y han inspirado a generaciones de atletas jóvenes. La natación no solo es un deporte competitivo, sino también una habilidad vital, promoviendo la salud cardiovascular y la fuerza muscular. Además, el deporte', 'la fuerza muscular. Además, el deporte tiene una gran influencia en la rehabilitación y la terapia física, ayudando a las personas a recuperarse de lesiones y a mantener su movilidad.', 'El tenis es otro deporte que goza de gran popularidad a nivel mundial. Torneos como Wimbledon, el Abierto de Francia, el Abierto de Australia y el US Open son eventos clave en el calendario deportivo, atrayendo a los mejores jugadores del mundo y a millones de espectadores. Jugadores legendarios como Roger Federer, Serena Williams y Rafael Nadal han llevado el deporte a nuevas alturas, inspirando', 'el deporte a nuevas alturas, inspirando a jóvenes tenistas y contribuyendo al crecimiento del tenis en todo el mundo.', 'Más allá de los deportes más conocidos, existen muchas otras disciplinas que también juegan un papel importante en la cultura deportiva global. El rugby, el cricket, el golf, el ciclismo, y los deportes de invierno como el esquí y el patinaje sobre hielo, cada uno tiene su propio conjunto de seguidores y contribuye a la diversidad y riqueza del panorama deportivo. Cada deporte ofrece sus propios', 'Cada deporte ofrece sus propios desafíos únicos y requiere un conjunto específico de habilidades, tácticas y estrategias.', 'El deporte también tiene un impacto significativo en la salud pública. La actividad física regular es esencial para mantener un estilo de vida saludable, reduciendo el riesgo de enfermedades crónicas como la diabetes, la hipertensión y las enfermedades cardíacas. Además, el deporte promueve la salud mental, ayudando a reducir el estrés, la ansiedad y la depresión. La participación en actividades', 'La participación en actividades deportivas fomenta el bienestar emocional, el desarrollo social y el sentido de comunidad.', 'Además de sus beneficios para la salud, el deporte desempeña un papel importante en la educación y el desarrollo personal. Los programas deportivos en las escuelas y las comunidades enseñan a los jóvenes habilidades valiosas como la disciplina, el trabajo en equipo, la responsabilidad y el liderazgo. A través del deporte, los jóvenes aprenden la importancia de establecer metas, trabajar duro para', 'de establecer metas, trabajar duro para alcanzarlas y manejar tanto el éxito como el fracaso con gracia y humildad.', 'El deporte también tiene el poder de unir a las personas. Eventos deportivos masivos como los Juegos Olímpicos, la Copa Mundial de la FIFA y el Super Bowl reúnen a personas de diferentes culturas, razas y religiones, creando un sentido de unidad y camaradería. El deporte trasciende las barreras lingüísticas y culturales, fomentando el respeto mutuo y la comprensión entre los individuos y las', 'comprensión entre los individuos y las naciones.', 'En el ámbito profesional, el deporte es una industria multimillonaria que genera empleo y oportunidades económicas. Desde atletas y entrenadores hasta organizadores de eventos y periodistas deportivos, el deporte ofrece una amplia gama de carreras y contribuye significativamente a las economías locales y globales. Las marcas y patrocinadores invierten grandes sumas de dinero en el deporte,', 'grandes sumas de dinero en el deporte, reconociendo su capacidad para llegar a una audiencia masiva y comprometida.', 'En resumen, el deporte es una fuerza poderosa y multifacética en la sociedad moderna. Su impacto va más allá del entretenimiento y la competencia, influenciando la salud pública, la educación, el desarrollo personal y la economía global. Ya sea a través de la emoción de una final de la Copa Mundial, la dedicación de un atleta olímpico o la alegría de un niño jugando en su vecindario, el deporte', 'jugando en su vecindario, el deporte continúa inspirando y uniendo a las personas en todo el mundo, recordándonos el valor del esfuerzo, la perseverancia y la unidad.', 'Japón, conocido como la \"Tierra del Sol Naciente\", es un archipiélago situado en el este de Asia, compuesto por cuatro islas principales: Honshu, Hokkaido, Kyushu y Shikoku, además de miles de islas más pequeñas. Con una historia rica y compleja, Japón ha evolucionado de ser una nación feudal a una potencia económica y tecnológica global.', 'La cultura japonesa es un fascinante contraste entre la tradición y la modernidad. Por un lado, el país es famoso por sus antiguas prácticas y costumbres, como el arte del té, la ceremonia del kimono, y los jardines zen. Lugares emblemáticos como el Templo Senso-ji en Tokio, el Santuario Fushimi Inari-taisha en Kioto y el Castillo de Himeji son testamentos de su herencia histórica y', 'testamentos de su herencia histórica y arquitectónica.', 'La religión juega un papel importante en la vida de los japoneses, con el sintoísmo y el budismo siendo las principales prácticas espirituales. Los festivales, o matsuri, son celebraciones vibrantes y coloridas que reflejan estas creencias, siendo algunos de los más conocidos el Gion Matsuri en Kioto y el Tanabata Matsuri en Sendai.', 'Japón también es un líder mundial en tecnología e innovación. Ciudades como Tokio y Osaka son centros neurálgicos de avances tecnológicos, hogar de gigantes de la industria como Sony, Toyota y Nintendo. El sistema de transporte japonés es admirado en todo el mundo, con sus trenes bala, o shinkansen, que conectan rápidamente las principales ciudades del país.', 'La gastronomía japonesa es otra de sus grandes atracciones. Desde el sushi y el sashimi hasta el ramen y el tempura, la cocina japonesa es conocida por su exquisita presentación y sus sabores delicados. El izakaya, una especie de taberna, es un lugar popular para disfrutar de una variedad de platos pequeños y sake, la tradicional bebida alcohólica japonesa hecha de arroz.', 'La naturaleza de Japón es igualmente impresionante, con paisajes que varían desde las montañas nevadas de Hokkaido hasta las playas tropicales de Okinawa. El Monte Fuji, la montaña más alta de Japón, es un símbolo icónico y una popular atracción turística. Durante la primavera, el país se transforma con el florecimiento de los cerezos, un fenómeno conocido como hanami, que atrae a millones de', 'como hanami, que atrae a millones de visitantes.', 'En términos de educación y ética laboral, Japón es conocido por su riguroso sistema educativo y su cultura de trabajo dedicada. La disciplina y el respeto son valores profundamente arraigados en la sociedad japonesa, lo que se refleja en su sistema educativo y en su enfoque hacia el trabajo.', 'A pesar de ser una de las economías más avanzadas del mundo, Japón enfrenta desafíos significativos. El envejecimiento de la población y la baja tasa de natalidad son preocupaciones importantes que el país debe abordar para asegurar un futuro próspero. Además, los desastres naturales, como terremotos y tsunamis, son riesgos constantes debido a la ubicación geográfica del país.', 'En resumen, Japón es una nación de contrastes y armonía, donde la antigua cultura y las tradiciones coexisten con la innovación y la modernidad. Es un país que ha dejado una huella indeleble en el mundo a través de su arte, tecnología, gastronomía y filosofía. Japón no solo es un lugar de belleza y misterio, sino también un ejemplo de resiliencia y progreso.']\n"
     ]
    }
   ],
   "source": [
    "new_docs = text_splitter.split_documents(documents=docs)\n",
    "doc_strings = [doc.page_content for doc in new_docs]\n",
    "print(doc_strings)"
   ]
  },
  {
   "cell_type": "code",
   "execution_count": 28,
   "metadata": {},
   "outputs": [],
   "source": [
    "device = 'cuda' if torch.cuda.is_available() else 'cpu'"
   ]
  },
  {
   "cell_type": "code",
   "execution_count": 29,
   "metadata": {},
   "outputs": [
    {
     "name": "stdout",
     "output_type": "stream",
     "text": [
      "Using device: cpu\n"
     ]
    }
   ],
   "source": [
    "print(f\"Using device: {device}\")"
   ]
  },
  {
   "cell_type": "code",
   "execution_count": 30,
   "metadata": {},
   "outputs": [
    {
     "name": "stderr",
     "output_type": "stream",
     "text": [
      "d:\\Proyecto_holagrama_IA\\LanGraph\\v2email\\lib\\site-packages\\huggingface_hub\\file_download.py:1132: FutureWarning: `resume_download` is deprecated and will be removed in version 1.0.0. Downloads always resume when possible. If you want to force a new download, use `force_download=True`.\n",
      "  warnings.warn(\n"
     ]
    },
    {
     "data": {
      "text/plain": [
       "{'client': SentenceTransformer(\n",
       "   (0): Transformer({'max_seq_length': 384, 'do_lower_case': False}) with Transformer model: MPNetModel \n",
       "   (1): Pooling({'word_embedding_dimension': 768, 'pooling_mode_cls_token': False, 'pooling_mode_mean_tokens': True, 'pooling_mode_max_tokens': False, 'pooling_mode_mean_sqrt_len_tokens': False, 'pooling_mode_weightedmean_tokens': False, 'pooling_mode_lasttoken': False, 'include_prompt': True})\n",
       "   (2): Normalize()\n",
       " ),\n",
       " 'model_name': 'sentence-transformers/all-mpnet-base-v2',\n",
       " 'cache_folder': None,\n",
       " 'model_kwargs': {'device': 'cpu'},\n",
       " 'encode_kwargs': {'normalize_embeddings': True},\n",
       " 'multi_process': False,\n",
       " 'show_progress': False}"
      ]
     },
     "execution_count": 30,
     "metadata": {},
     "output_type": "execute_result"
    }
   ],
   "source": [
    "model_name = \"sentence-transformers/all-mpnet-base-v2\"\n",
    "model_kwargs = {'device': device}\n",
    "encode_kwargs = {'normalize_embeddings': True} # set True to compute cosine similarity\n",
    "embeddings = HuggingFaceEmbeddings(\n",
    "    model_name=model_name,\n",
    "    model_kwargs=model_kwargs,\n",
    "    encode_kwargs=encode_kwargs,\n",
    ")\n",
    "embeddings.__dict__"
   ]
  },
  {
   "cell_type": "code",
   "execution_count": 31,
   "metadata": {},
   "outputs": [
    {
     "data": {
      "text/plain": [
       "<langchain_community.vectorstores.chroma.Chroma at 0x29fb7523970>"
      ]
     },
     "execution_count": 31,
     "metadata": {},
     "output_type": "execute_result"
    }
   ],
   "source": [
    "db = Chroma.from_documents(new_docs, embeddings)\n",
    "db"
   ]
  },
  {
   "cell_type": "code",
   "execution_count": 32,
   "metadata": {},
   "outputs": [
    {
     "data": {
      "text/plain": [
       "{'name': None,\n",
       " 'tags': ['Chroma', 'HuggingFaceEmbeddings'],\n",
       " 'metadata': None,\n",
       " 'vectorstore': <langchain_community.vectorstores.chroma.Chroma at 0x29fb7523970>,\n",
       " 'search_type': 'similarity',\n",
       " 'search_kwargs': {'k': 4}}"
      ]
     },
     "execution_count": 32,
     "metadata": {},
     "output_type": "execute_result"
    }
   ],
   "source": [
    "retriever = db.as_retriever(search_kwargs={\"k\": 4})\n",
    "retriever.__dict__"
   ]
  },
  {
   "cell_type": "code",
   "execution_count": 33,
   "metadata": {},
   "outputs": [
    {
     "name": "stdout",
     "output_type": "stream",
     "text": [
      "[Document(page_content='La cultura japonesa es un fascinante contraste entre la tradición y la modernidad. Por un lado, el país es famoso por sus antiguas prácticas y costumbres, como el arte del té, la ceremonia del kimono, y los jardines zen. Lugares emblemáticos como el Templo Senso-ji en Tokio, el Santuario Fushimi Inari-taisha en Kioto y el Castillo de Himeji son testamentos de su herencia histórica y'), Document(page_content='La cultura japonesa es un fascinante contraste entre la tradición y la modernidad. Por un lado, el país es famoso por sus antiguas prácticas y costumbres, como el arte del té, la ceremonia del kimono, y los jardines zen. Lugares emblemáticos como el Templo Senso-ji en Tokio, el Santuario Fushimi Inari-taisha en Kioto y el Castillo de Himeji son testamentos de su herencia histórica y'), Document(page_content='En términos de educación y ética laboral, Japón es conocido por su riguroso sistema educativo y su cultura de trabajo dedicada. La disciplina y el respeto son valores profundamente arraigados en la sociedad japonesa, lo que se refleja en su sistema educativo y en su enfoque hacia el trabajo.'), Document(page_content='En términos de educación y ética laboral, Japón es conocido por su riguroso sistema educativo y su cultura de trabajo dedicada. La disciplina y el respeto son valores profundamente arraigados en la sociedad japonesa, lo que se refleja en su sistema educativo y en su enfoque hacia el trabajo.')]\n"
     ]
    }
   ],
   "source": [
    "query = \"Cuentame sobre la cultura japonesa\"\n",
    "docs = retriever.invoke(query)\n",
    "print(docs)"
   ]
  },
  {
   "cell_type": "markdown",
   "metadata": {},
   "source": [
    "En extensión .py funciona bien y da el formato bien"
   ]
  },
  {
   "cell_type": "code",
   "execution_count": 34,
   "metadata": {},
   "outputs": [],
   "source": [
    "AgentState = {}\n",
    "AgentState[\"messages\"] = []"
   ]
  },
  {
   "cell_type": "code",
   "execution_count": 35,
   "metadata": {},
   "outputs": [
    {
     "data": {
      "text/plain": [
       "{'messages': []}"
      ]
     },
     "execution_count": 35,
     "metadata": {},
     "output_type": "execute_result"
    }
   ],
   "source": [
    "AgentState"
   ]
  },
  {
   "cell_type": "code",
   "execution_count": 36,
   "metadata": {},
   "outputs": [],
   "source": [
    "llm = ChatGroq(temperature=0, model=\"llama3-70b-8192\", streaming=False)"
   ]
  },
  {
   "cell_type": "code",
   "execution_count": 37,
   "metadata": {},
   "outputs": [],
   "source": [
    "def function_1(state):\n",
    "    messages = state['messages']\n",
    "    question = messages[-1]   ## Fetching the user question\n",
    "    \n",
    "    complete_query = \"Su tarea es proporcionar sólo el tema basado en la consulta del usuario. \\\n",
    "        Sólo se emite el tema entre: [Japan , Sports]. No incluya el razonamiento. A continuación se muestra la consulta del usuario: \" + question\n",
    "    response = llm.invoke(complete_query)\n",
    "    state['messages'].append(response.content) # appending LLM call response to the AgentState\n",
    "    return state"
   ]
  },
  {
   "cell_type": "code",
   "execution_count": 38,
   "metadata": {},
   "outputs": [],
   "source": [
    "def function_2(state):\n",
    "    messages = state['messages']\n",
    "    question = messages[0] \n",
    "\n",
    "    template = \"\"\"Responda a la pregunta basándose únicamente en el siguiente contexto:\n",
    "    {context}\n",
    "\n",
    "    Pregunta: {question}\n",
    "    \"\"\"\n",
    "    prompt = ChatPromptTemplate.from_template(template)\n",
    "\n",
    "    retrieval_chain = (\n",
    "        {\"context\": retriever, \"question\": RunnablePassthrough()}\n",
    "        | prompt\n",
    "        | llm\n",
    "        | StrOutputParser()\n",
    "        )\n",
    "    result = retrieval_chain.invoke(question)\n",
    "    return result"
   ]
  },
  {
   "cell_type": "code",
   "execution_count": 39,
   "metadata": {},
   "outputs": [],
   "source": [
    "workflow = Graph()\n",
    "\n",
    "workflow.add_node(\"Agent\", function_1)\n",
    "workflow.add_node(\"tool\", function_2)\n",
    "\n",
    "workflow.add_edge('Agent', 'tool')\n",
    "\n",
    "workflow.set_entry_point(\"Agent\")\n",
    "workflow.set_finish_point(\"tool\")\n",
    "\n",
    "app = workflow.compile()"
   ]
  },
  {
   "cell_type": "code",
   "execution_count": 40,
   "metadata": {},
   "outputs": [
    {
     "name": "stdout",
     "output_type": "stream",
     "text": [
      "['Háblame del crecimiento industrial de Japón', 'Japan']\n"
     ]
    },
    {
     "data": {
      "text/plain": [
       "'Según el texto, Japón es un líder mundial en tecnología e innovación. Ciudades como Tokio y Osaka son centros neurálgicos de avances tecnológicos, y son hogar de gigantes de la industria como Sony, Toyota y Nintendo. Esto sugiere que Japón ha experimentado un crecimiento industrial significativo, especialmente en la tecnología y la innovación.'"
      ]
     },
     "execution_count": 40,
     "metadata": {},
     "output_type": "execute_result"
    }
   ],
   "source": [
    "inputs = {\"messages\": [\"Háblame del crecimiento industrial de Japón\"]}\n",
    "app.invoke(inputs)"
   ]
  },
  {
   "cell_type": "code",
   "execution_count": 41,
   "metadata": {},
   "outputs": [
    {
     "name": "stdout",
     "output_type": "stream",
     "text": [
      "['¿El deporte reduce el riesgo de enfermedades crónicas como la diabetes?', 'Sports']\n"
     ]
    },
    {
     "data": {
      "text/plain": [
       "'Sí, según el texto, el deporte reduce el riesgo de enfermedades crónicas como la diabetes.'"
      ]
     },
     "execution_count": 41,
     "metadata": {},
     "output_type": "execute_result"
    }
   ],
   "source": [
    "inputs = {\"messages\": [\"¿El deporte reduce el riesgo de enfermedades crónicas como la diabetes?\"]}\n",
    "app.invoke(inputs)"
   ]
  },
  {
   "cell_type": "code",
   "execution_count": 42,
   "metadata": {},
   "outputs": [
    {
     "name": "stdout",
     "output_type": "stream",
     "text": [
      "Salida del Nodo 'Agent':\n",
      "---\n",
      "{'messages': ['¿El deporte reduce el riesgo de enfermedades crónicas como la diabetes?', 'Sports', 'Sports']}\n",
      "\n",
      "---\n",
      "\n",
      "['¿El deporte reduce el riesgo de enfermedades crónicas como la diabetes?', 'Sports', 'Sports']\n",
      "Salida del Nodo 'tool':\n",
      "---\n",
      "Sí, según el texto, el deporte reduce el riesgo de enfermedades crónicas como la diabetes.\n",
      "\n",
      "---\n",
      "\n"
     ]
    }
   ],
   "source": [
    "for output in app.stream(inputs):\n",
    "    # stream() yields dictionaries with output keyed by node name\n",
    "    for key, value in output.items():\n",
    "        print(f\"Salida del Nodo '{key}':\")\n",
    "        print(\"---\")\n",
    "        print(value)\n",
    "    print(\"\\n---\\n\")"
   ]
  }
 ],
 "metadata": {
  "kernelspec": {
   "display_name": "v2email",
   "language": "python",
   "name": "python3"
  },
  "language_info": {
   "codemirror_mode": {
    "name": "ipython",
    "version": 3
   },
   "file_extension": ".py",
   "mimetype": "text/x-python",
   "name": "python",
   "nbconvert_exporter": "python",
   "pygments_lexer": "ipython3",
   "version": "3.10.6"
  }
 },
 "nbformat": 4,
 "nbformat_minor": 2
}
