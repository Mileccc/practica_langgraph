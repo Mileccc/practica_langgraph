{
 "cells": [
  {
   "cell_type": "markdown",
   "metadata": {},
   "source": [
    "# CONSIDERACIONES DE USO CON STREAMING\n",
    "\n",
    "- Streaming Limitado a Modelos de Chat: El streaming sólo se utiliza para los modelos de chat y no para las herramientas.\n",
    "- Funcionalidad Reducida: Este enfoque limita la funcionalidad del agente ya que no puede invocar herramientas, pero permite probar el streaming con el modelo de chat."
   ]
  },
  {
   "cell_type": "code",
   "execution_count": 20,
   "metadata": {},
   "outputs": [
    {
     "data": {
      "text/plain": [
       "True"
      ]
     },
     "execution_count": 20,
     "metadata": {},
     "output_type": "execute_result"
    }
   ],
   "source": [
    "from dotenv import load_dotenv\n",
    "from langchain_groq import ChatGroq\n",
    "from langchain_community.tools.tavily_search import TavilySearchResults\n",
    "import os\n",
    "from langgraph.prebuilt import ToolNode\n",
    "from typing import TypedDict, Annotated, Literal\n",
    "from langgraph.graph import StateGraph, END\n",
    "from langchain_core.messages import HumanMessage\n",
    "\n",
    "load_dotenv()"
   ]
  },
  {
   "cell_type": "code",
   "execution_count": 21,
   "metadata": {},
   "outputs": [],
   "source": [
    "os.environ['GROQ_API_KEY'] = os.getenv('GROQ_API_KEY')\n",
    "os.environ['TAVILY_API_KEY'] = os.getenv('TAVILY_API_KEY')\n",
    "os.environ['LANGCHAIN_TRACING_V2'] = os.getenv('LANGCHAIN_TRACING_V2')\n",
    "os.environ['LANGCHAIN_ENDPOINT'] = os.getenv('LANGCHAIN_ENDPOINT')\n",
    "os.environ['LANGCHAIN_API_KEY'] = os.getenv('LANGCHAIN_API_KEY')\n",
    "os.environ['LANGCHAIN_PROJECT'] = os.getenv('LANGCHAIN_PROJECT')"
   ]
  },
  {
   "cell_type": "code",
   "execution_count": 22,
   "metadata": {},
   "outputs": [],
   "source": [
    "model = ChatGroq(temperature=0, model=\"llama3-70b-8192\", streaming=True)"
   ]
  },
  {
   "cell_type": "code",
   "execution_count": 23,
   "metadata": {},
   "outputs": [],
   "source": [
    "def add_messages(left: list, right: list):\n",
    "    \"\"\"Añadir sin sobrescribir.\"\"\"\n",
    "    return left + right"
   ]
  },
  {
   "cell_type": "code",
   "execution_count": 24,
   "metadata": {},
   "outputs": [],
   "source": [
    "class AgentState(TypedDict):\n",
    "    messages: Annotated[list, add_messages]"
   ]
  },
  {
   "cell_type": "code",
   "execution_count": 25,
   "metadata": {},
   "outputs": [],
   "source": [
    "def should_continue(state: AgentState) -> Literal[\"__end__\"]:\n",
    "    # Siempre terminamos ya que no estamos usando herramientas\n",
    "    return \"__end__\""
   ]
  },
  {
   "cell_type": "code",
   "execution_count": 26,
   "metadata": {},
   "outputs": [],
   "source": [
    "def call_model(state: AgentState):\n",
    "    messages = state['messages']\n",
    "    response = model.invoke(messages)\n",
    "    return {\"messages\": [response]}\n"
   ]
  },
  {
   "cell_type": "markdown",
   "metadata": {},
   "source": [
    "## Definir el Grafo"
   ]
  },
  {
   "cell_type": "code",
   "execution_count": 27,
   "metadata": {},
   "outputs": [],
   "source": [
    "# Definir un nuevo grafo\n",
    "workflow = StateGraph(AgentState)\n"
   ]
  },
  {
   "cell_type": "code",
   "execution_count": 28,
   "metadata": {},
   "outputs": [],
   "source": [
    "# Definir los dos nodos entre los que ciclará\n",
    "workflow.add_node(\"agent\", call_model)"
   ]
  },
  {
   "cell_type": "code",
   "execution_count": 29,
   "metadata": {},
   "outputs": [],
   "source": [
    "# Establecer el punto de entrada como `agent`\n",
    "workflow.set_entry_point(\"agent\")"
   ]
  },
  {
   "cell_type": "code",
   "execution_count": 30,
   "metadata": {},
   "outputs": [],
   "source": [
    "# Agregar un borde condicional\n",
    "workflow.add_conditional_edges(\"agent\", should_continue)"
   ]
  },
  {
   "cell_type": "code",
   "execution_count": 31,
   "metadata": {},
   "outputs": [],
   "source": [
    "# Finalmente, ¡compilamos!\n",
    "app = workflow.compile()"
   ]
  },
  {
   "cell_type": "code",
   "execution_count": 32,
   "metadata": {},
   "outputs": [],
   "source": [
    "mensaje = HumanMessage(content=\"¿Cuál es el clima en San Francisco? Contesta en español\")"
   ]
  },
  {
   "cell_type": "code",
   "execution_count": 33,
   "metadata": {},
   "outputs": [
    {
     "data": {
      "text/plain": [
       "{'messages': [HumanMessage(content='¿Cuál es el clima en San Francisco?')]}"
      ]
     },
     "execution_count": 33,
     "metadata": {},
     "output_type": "execute_result"
    }
   ],
   "source": [
    "\n",
    "inputs = {\"messages\": [HumanMessage(content=\"¿Cuál es el clima en San Francisco?\")]}\n",
    "inputs\n"
   ]
  },
  {
   "cell_type": "code",
   "execution_count": 34,
   "metadata": {},
   "outputs": [
    {
     "name": "stdout",
     "output_type": "stream",
     "text": [
      "Salida del nodo 'agent':\n",
      "---\n",
      "{'messages': [AIMessage(content='San Francisco, California, tiene un clima mediterráneo con influencia oceánica, caracterizado por veranos frescos y húmedos, e inviernos suaves y lluviosos. A continuación, se presentan las características climáticas de San Francisco:\\n\\n**Temperatura:**\\n\\n* Verano (junio a septiembre): la temperatura máxima promedio es de 22°C (72°F), mientras que la temperatura mínima promedio es de 13°C (56°F).\\n* Invierno (diciembre a febrero): la temperatura máxima promedio es de 14°C (57°F), mientras que la temperatura mínima promedio es de 8°C (46°F).\\n* Primavera (marzo a mayo) y otoño (septiembre a noviembre): las temperaturas son suaves, con máximas promedio de 18°C (64°F) y mínimas promedio de 10°C (50°F).\\n\\n**Precipitaciones:**\\n\\n* La mayoría de las precipitaciones ocurren durante los meses de invierno, con un promedio de 20 días de lluvia al mes.\\n* La cantidad de precipitaciones anuales es de aproximadamente 600 mm (24 pulgadas).\\n* La nieve es muy rara en San Francisco, y solo se ha registrado nieve en la ciudad en unas pocas ocasiones en la historia.\\n\\n**Nubosidad y sol:**\\n\\n* San Francisco tiene una gran cantidad de nubosidad durante todo el año, con un promedio de 171 días nublados al año.\\n* La ciudad recibe un promedio de 284 días de sol al año, con un máximo de 9 horas de sol al día en julio y un mínimo de 5 horas en diciembre.\\n\\n**Viento:**\\n\\n* San Francisco es conocida por su viento fresco y fuerte, especialmente en la parte oeste de la ciudad, cerca del Puente Golden Gate.\\n* La velocidad del viento promedio es de 23 km/h (14 mph), con ráfagas que pueden alcanzar hasta 50 km/h (31 mph).\\n\\nEn resumen, San Francisco tiene un clima fresco y húmedo, con veranos suaves y húmedos, e inviernos suaves y lluviosos. La ciudad es conocida por su niebla y nubosidad, especialmente en la mañana y en la tarde.', response_metadata={'finish_reason': 'stop'}, id='run-2fa51c62-9292-4a3c-bb1a-d15475a54be8-0')]}\n",
      "\n",
      "---\n",
      "\n"
     ]
    }
   ],
   "source": [
    "for output in app.stream(inputs, stream_mode=\"updates\"):\n",
    "    # stream() genera diccionarios con la salida clave por nombre de nodo\n",
    "    for key, value in output.items():\n",
    "        print(f\"Salida del nodo '{key}':\")\n",
    "        print(\"---\")\n",
    "        print(value)\n",
    "    print(\"\\n---\\n\")"
   ]
  }
 ],
 "metadata": {
  "kernelspec": {
   "display_name": "v2email",
   "language": "python",
   "name": "python3"
  },
  "language_info": {
   "codemirror_mode": {
    "name": "ipython",
    "version": 3
   },
   "file_extension": ".py",
   "mimetype": "text/x-python",
   "name": "python",
   "nbconvert_exporter": "python",
   "pygments_lexer": "ipython3",
   "version": "3.10.6"
  }
 },
 "nbformat": 4,
 "nbformat_minor": 2
}
